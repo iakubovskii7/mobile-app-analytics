{
 "cells": [
  {
   "cell_type": "code",
   "id": "initial_id",
   "metadata": {
    "collapsed": true
   },
   "source": [
    "import os\n",
    "\n",
    "from serpapi import GoogleSearch\n",
    "import json\n",
    "import pandas as pd\n",
    "\n",
    "def create_search_params(search_key: str,\n",
    "                         engine: str = \"apple_app_store\",\n",
    "                         device: str = \"mobile\",\n",
    "                         country: str = \"us\",\n",
    "                         lang: str = \"en-us\",\n",
    "                         ):\n",
    "    return {\n",
    "    'api_key': 'a3a06a53ed09fd1543aca690eca6549abd5454255f438d1763266db50372d743',    # SerpApi search engine\n",
    "    'engine': engine,\n",
    "    'term': search_key,         # search query\n",
    "    'device': device,            # device to get the results  desktop /\n",
    "    'country': country,                # country for the search\n",
    "    'lang': lang,                # language for the search\n",
    "    'disallow_explicit': False,     # disallowing explicit apps\n",
    "    'num': 200,                      # number of items per page\n",
    "    'page': 0,                      # pagination\n",
    "}\n",
    "\n",
    "# # app_store_results = []\n",
    "all_results = []\n",
    "all_terms = []\n",
    "for i in range(1, 5):\n",
    "    df = pd.read_parquet(f\"../data/serpapi_{i}.parquet\")\n",
    "    all_terms.extend(df['search_key'].unique().tolist())\n",
    "for search_key in list(set(all_terms)):\n",
    "    params = create_search_params(search_key=search_key)\n",
    "    search = GoogleSearch(params)\n",
    "    page_results = search.get_dict()\n",
    "    results = (\n",
    "        pd.json_normalize(page_results['organic_results'])\n",
    "        .assign(parsed_at=page_results['search_metadata']['created_at'],\n",
    "                search_key=search_key,\n",
    "                source=\"parsed_serpapi\"\n",
    "                )\n",
    "    )\n",
    "    all_results.append(results)\n",
    "all_results = pd.concat(all_results)\n",
    "all_results.to_parquet(\"../data/serpapi_7.parquet\")"
   ],
   "outputs": [],
   "execution_count": null
  },
  {
   "metadata": {},
   "cell_type": "code",
   "source": "# Load into bucket",
   "id": "85f8badc415228a6",
   "outputs": [],
   "execution_count": null
  },
  {
   "metadata": {
    "ExecuteTime": {
     "end_time": "2025-07-09T20:13:42.505347Z",
     "start_time": "2025-07-09T20:13:42.501615Z"
    }
   },
   "cell_type": "code",
   "source": [
    "import os\n",
    "from dotenv import load_dotenv\n",
    "load_dotenv()\n",
    "os.getenv(\"S3_ACCESS_SECRET\")"
   ],
   "id": "5c5787726abb4fe",
   "outputs": [
    {
     "data": {
      "text/plain": [
       "'1JAHo4Wd4q2a8JxtVrk7kNJYfLqdNbf86XSC2Ttk'"
      ]
     },
     "execution_count": 5,
     "metadata": {},
     "output_type": "execute_result"
    }
   ],
   "execution_count": 5
  },
  {
   "metadata": {
    "ExecuteTime": {
     "end_time": "2025-07-09T20:14:34.288534Z",
     "start_time": "2025-07-09T20:14:34.285813Z"
    }
   },
   "cell_type": "code",
   "source": "os.getenv(\"S3_ACCESS_SECRET\")",
   "id": "66a6eb05f4887d5a",
   "outputs": [
    {
     "data": {
      "text/plain": [
       "'1JAHo4Wd4q2a8JxtVrk7kNJYfLqdNbf86XSC2Ttk'"
      ]
     },
     "execution_count": 9,
     "metadata": {},
     "output_type": "execute_result"
    }
   ],
   "execution_count": 9
  },
  {
   "metadata": {
    "ExecuteTime": {
     "end_time": "2025-07-09T20:17:02.126010Z",
     "start_time": "2025-07-09T20:17:02.118840Z"
    }
   },
   "cell_type": "code",
   "source": [
    "import glob\n",
    "glob.glob(\"../data/*\")"
   ],
   "id": "4921596904211b37",
   "outputs": [
    {
     "data": {
      "text/plain": [
       "['../data/serpapi_3.parquet',\n",
       " '../data/serpapi_2.parquet',\n",
       " '../data/serpapi_1.parquet',\n",
       " '../data/serpapi_4.parquet',\n",
       " '../data/serpapi_5.parquet',\n",
       " '../data/serpapi_7.parquet',\n",
       " '../data/serpapi_6.parquet']"
      ]
     },
     "execution_count": 19,
     "metadata": {},
     "output_type": "execute_result"
    }
   ],
   "execution_count": 19
  },
  {
   "metadata": {
    "ExecuteTime": {
     "end_time": "2025-07-09T20:16:38.278785Z",
     "start_time": "2025-07-09T20:16:38.275180Z"
    }
   },
   "cell_type": "code",
   "source": "os.listdir(f\"../data/\")",
   "id": "37df7b584e1a20da",
   "outputs": [
    {
     "data": {
      "text/plain": [
       "['serpapi_3.parquet',\n",
       " 'serpapi_2.parquet',\n",
       " 'serpapi_1.parquet',\n",
       " 'serpapi_4.parquet',\n",
       " 'serpapi_5.parquet',\n",
       " 'serpapi_7.parquet',\n",
       " 'serpapi_6.parquet']"
      ]
     },
     "execution_count": 18,
     "metadata": {},
     "output_type": "execute_result"
    }
   ],
   "execution_count": 18
  },
  {
   "metadata": {
    "ExecuteTime": {
     "end_time": "2025-07-09T20:15:44.164953Z",
     "start_time": "2025-07-09T20:15:43.361539Z"
    }
   },
   "cell_type": "code",
   "source": [
    "import boto3\n",
    "import os\n",
    "from botocore.exceptions import NoCredentialsError\n",
    "\n",
    "# Replace with your credentials and values\n",
    "aws_access_key_id = os.getenv('S3_ACCESS_KEY')\n",
    "aws_secret_access_key = os.getenv(\"S3_ACCESS_SECRET\")\n",
    "bucket_name = 'blockchain-defi'\n",
    "file_index = 7\n",
    "s3_key = f'generate_data/serpapi_{file_index}.parquet'     # Destination path in S3\n",
    "local_file_path = f\"../data/serpapi_{file_index}.parquet\"          # Local file to upload\n",
    "\n",
    "# Create S3 client\n",
    "s3 = boto3.client(\n",
    "    's3',\n",
    "    region_name='eu-west-2',\n",
    "    aws_access_key_id=aws_access_key_id,\n",
    "    aws_secret_access_key=aws_secret_access_key\n",
    ")\n",
    "\n",
    "try:\n",
    "    s3.upload_file(local_file_path, bucket_name, s3_key)\n",
    "    print(f\"✅ Upload successful: {local_file_path} → s3://{bucket_name}/{s3_key}\")\n",
    "except FileNotFoundError:\n",
    "    print(f\"❌ File not found: {local_file_path}\")\n",
    "except NoCredentialsError:\n",
    "    print(\"❌ AWS credentials not found or invalid.\")\n",
    "except Exception as e:\n",
    "    print(f\"❌ Upload failed: {e}\")"
   ],
   "id": "2f21bb97bbe1e6c2",
   "outputs": [
    {
     "name": "stdout",
     "output_type": "stream",
     "text": [
      "✅ Upload successful: ../data/serpapi_7.parquet → s3://blockchain-defi/generate_data/serpapi_7.parquet\n"
     ]
    }
   ],
   "execution_count": 16
  },
  {
   "metadata": {},
   "cell_type": "markdown",
   "source": "|# Generate data",
   "id": "fd95456bbbb397f2"
  },
  {
   "metadata": {},
   "cell_type": "code",
   "source": [
    "import pandas as pd\n",
    "import numpy as np\n",
    "from faker import Faker\n",
    "import random\n",
    "\n",
    "\n",
    "fake = Faker()\n",
    "\n",
    "# Function to simulate a row based on column type\n",
    "def generate_synthetic_row():\n",
    "    return {\n",
    "        'app_name': fake.company(),\n",
    "        'category': random.choice(['Games', 'Productivity', 'Education', 'Health & Fitness', 'Finance']),\n",
    "        'rating': round(random.uniform(1.0, 5.0), 2),\n",
    "        'reviews': random.randint(0, 100000),\n",
    "        'size': f\"{random.randint(20, 500)}MB\",\n",
    "        'installs': f\"{random.randint(1, 100)}M+\",\n",
    "        'type': random.choice(['Free', 'Paid']),\n",
    "        'price': round(random.uniform(0.0, 99.99), 2) if random.random() < 0.2 else 0.0,\n",
    "        'content_rating': random.choice(['Everyone', 'Teen', 'Mature 17+', 'Everyone 10+']),\n",
    "        'genres': random.choice(['Action', 'Puzzle', 'Tools', 'Education', 'Lifestyle']),\n",
    "        'last_updated': fake.date(),\n",
    "        'current_version': f\"{random.randint(1,10)}.{random.randint(0,9)}.{random.randint(0,9)}\",\n",
    "        'android_version': random.choice(['4.0 and up', '5.0 and up', '6.0 and up', 'Varies with device'])\n",
    "    }\n",
    "\n",
    "# Generate 1000 synthetic rows\n",
    "synthetic_data = [generate_synthetic_row() for _ in range(1000)]\n",
    "synthetic_df = pd.DataFrame(synthetic_data)"
   ],
   "id": "d471486d07caa8d0",
   "outputs": [],
   "execution_count": null
  }
 ],
 "metadata": {
  "kernelspec": {
   "display_name": "Python 3",
   "language": "python",
   "name": "python3"
  },
  "language_info": {
   "codemirror_mode": {
    "name": "ipython",
    "version": 2
   },
   "file_extension": ".py",
   "mimetype": "text/x-python",
   "name": "python",
   "nbconvert_exporter": "python",
   "pygments_lexer": "ipython2",
   "version": "2.7.6"
  }
 },
 "nbformat": 4,
 "nbformat_minor": 5
}
